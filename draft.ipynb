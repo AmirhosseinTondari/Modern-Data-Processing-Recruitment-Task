{
 "cells": [
  {
   "cell_type": "code",
   "execution_count": 2,
   "metadata": {},
   "outputs": [],
   "source": [
    "from langchain_community.chat_message_histories import ChatMessageHistory\n",
    "from langchain.prompts import ChatPromptTemplate, MessagesPlaceholder"
   ]
  },
  {
   "cell_type": "code",
   "execution_count": 5,
   "metadata": {},
   "outputs": [],
   "source": [
    "ds1_system_prompt = \"\"\"You are an sales assistant named SPOT.\n",
    "        first answer customer's questions in best of your abilities.\n",
    "        then try asking the customer about features of their desired product.\n",
    "        be talkative and answer in farsi.\n",
    "        \"\"\"\n",
    "ds1_prompt = ChatPromptTemplate.from_messages(\n",
    "            [\n",
    "                (\"system\", ds1_system_prompt),\n",
    "                MessagesPlaceholder(\"chat_history\"),\n",
    "            ]\n",
    "        )"
   ]
  },
  {
   "cell_type": "code",
   "execution_count": 12,
   "metadata": {},
   "outputs": [],
   "source": [
    "a = ds1_prompt.invoke({\"chat_history\":[\"aaaa\", \"bbbb\"]})"
   ]
  },
  {
   "cell_type": "code",
   "execution_count": 16,
   "metadata": {},
   "outputs": [
    {
     "data": {
      "text/plain": [
       "[SystemMessage(content=\"You are an sales assistant named SPOT.\\n        first answer customer's questions in best of your abilities.\\n        then try asking the customer about features of their desired product.\\n        be talkative and answer in farsi.\\n        \", additional_kwargs={}, response_metadata={}),\n",
       " HumanMessage(content='aaaa', additional_kwargs={}, response_metadata={}),\n",
       " HumanMessage(content='bbbb', additional_kwargs={}, response_metadata={})]"
      ]
     },
     "execution_count": 16,
     "metadata": {},
     "output_type": "execute_result"
    }
   ],
   "source": [
    "a.messages"
   ]
  },
  {
   "cell_type": "code",
   "execution_count": 32,
   "metadata": {},
   "outputs": [
    {
     "name": "stdout",
     "output_type": "stream",
     "text": [
      "Thought 1: The user is interested in information about kings, which could refer to historical figures, monarchies, or specific kings from different cultures.\n",
      "\n",
      "Thought 2: I need to decide whether to provide a general overview of kings throughout history or focus on a specific aspect, such as famous kings, the role of kings, or the concept of kingship in various cultures.\n",
      "\n",
      "Thought 3: It might be beneficial to give a brief history of kingship, highlight a few notable kings from different regions, and mention the evolution of the role of kings in modern times.\n",
      "\n",
      "Final Response: Kings are typically male monarchs who rule over a kingdom or territory. Historically, they have wielded significant power and influence, often governing with the support of nobility and military might. Notable kings include figures like Alexander the Great, King Solomon, and King Louis XIV, each renowned for their contributions to history, culture, or governance. The role of kingship has evolved over time, with many modern monarchs serving as ceremonial figures rather than absolute rulers, reflecting changes in political systems and societal values."
     ]
    }
   ],
   "source": [
    "import requests\n",
    "\n",
    "def stream_response(url):\n",
    "    with requests.get(url, stream=True) as response:\n",
    "        for chunk in response.iter_content():\n",
    "            if chunk:  # Skip empty lines\n",
    "                yield chunk.decode(\"utf-8\")  # Convert bytes to string\n",
    "\n",
    "api_url = \"http://127.0.0.1:8000/chat/cot/?message=tell me about kings\"\n",
    "\n",
    "for text_chunk in stream_response(api_url):\n",
    "    print(text_chunk, end=\"\", flush=True)"
   ]
  },
  {
   "cell_type": "code",
   "execution_count": 36,
   "metadata": {},
   "outputs": [
    {
     "data": {
      "text/plain": [
       "4"
      ]
     },
     "execution_count": 36,
     "metadata": {},
     "output_type": "execute_result"
    }
   ],
   "source": [
    "len(\"111\\n\")"
   ]
  },
  {
   "cell_type": "code",
   "execution_count": null,
   "metadata": {},
   "outputs": [],
   "source": []
  }
 ],
 "metadata": {
  "kernelspec": {
   "display_name": "mdp-rt",
   "language": "python",
   "name": "python3"
  },
  "language_info": {
   "codemirror_mode": {
    "name": "ipython",
    "version": 3
   },
   "file_extension": ".py",
   "mimetype": "text/x-python",
   "name": "python",
   "nbconvert_exporter": "python",
   "pygments_lexer": "ipython3",
   "version": "3.12.2"
  }
 },
 "nbformat": 4,
 "nbformat_minor": 2
}
